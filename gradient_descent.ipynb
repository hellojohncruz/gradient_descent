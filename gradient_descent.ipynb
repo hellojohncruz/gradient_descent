{
 "cells": [
  {
   "cell_type": "code",
   "execution_count": 1,
   "id": "c6d900a4-2c4a-4c15-9d65-f3a390e0e653",
   "metadata": {},
   "outputs": [],
   "source": [
    "'''\n",
    "Use gradient descent to find the minimum value of a single-variable function.\n",
    "Equation: x**5 - 30*x**3 + 50*x; bounded range (-1,1)\n",
    "'''\n",
    "from sympy import Derivative, Symbol, sympify\n",
    "import matplotlib.pyplot as plt"
   ]
  },
  {
   "cell_type": "code",
   "execution_count": 2,
   "id": "112035b2-9863-4d55-a363-0365d427e420",
   "metadata": {},
   "outputs": [],
   "source": [
    "def grad_descent(x0, f1x, x):\n",
    "    epsilon = 1e-6\n",
    "    step_size = 1e-4\n",
    "    x_old = x0\n",
    "    x_new = x_old - step_size*f1x.subs({x:x_old}).evalf()\n",
    "    \n",
    "    while abs(x_old - x_new) > epsilon:\n",
    "        x_old = x_new\n",
    "        x_new = x_old - step_size*f1x.subs({x:x_old}).evalf()\n",
    "    return x_new"
   ]
  },
  {
   "cell_type": "code",
   "execution_count": 3,
   "id": "8afb274a-cb07-4251-8cd7-67cc085687eb",
   "metadata": {},
   "outputs": [],
   "source": [
    "def plot_descent(x0, f1x, x):\n",
    "    epsilon = 1e-6\n",
    "    step_size = 1e-4\n",
    "    x_old = x0\n",
    "    x_new = x_old - step_size*f1x.subs({x:x_old}).evalf()\n",
    "    \n",
    "    x_new_tracker = list()\n",
    "    \n",
    "    while abs(x_old - x_new) > epsilon:\n",
    "        x_old = x_new\n",
    "        x_new = x_old - step_size*f1x.subs({x:x_old}).evalf()\n",
    "        x_new_tracker.append(x_new)\n",
    "    return x_new_tracker"
   ]
  },
  {
   "cell_type": "code",
   "execution_count": 4,
   "id": "8e5a947c-02d8-48a9-b5df-723ba47d28a0",
   "metadata": {},
   "outputs": [
    {
     "name": "stdin",
     "output_type": "stream",
     "text": [
      "Enter a function in one variable:  x**5 - 30*x**3 + 50*x\n",
      "Enter the variable to differentiate with respect to:  x\n",
      "Enter the initial value of the variable:  0.5\n"
     ]
    },
    {
     "name": "stdout",
     "output_type": "stream",
     "text": [
      "x: -0.757451948244346\n",
      "Minimum value: -25.0846622548143\n"
     ]
    },
    {
     "data": {
      "image/png": "[encoded data removed]",
      "text/plain": [
       "<Figure size 432x288 with 1 Axes>"
      ]
     },
     "metadata": {
      "needs_background": "light"
     },
     "output_type": "display_data"
    }
   ],
   "source": [
    "if __name__ == '__main__':\n",
    "    f = input('Enter a function in one variable: ')\n",
    "    var = input('Enter the variable to differentiate with respect to: ')\n",
    "    var0 = float(input('Enter the initial value of the variable: '))\n",
    "    try:\n",
    "        f = sympify(f)\n",
    "    except SympifyError:\n",
    "        print('Invalid function entered')\n",
    "    else:\n",
    "        var = Symbol(var)\n",
    "        d = Derivative(f, var).doit()\n",
    "        var_max = grad_descent(var0, d, var)\n",
    "    print('{0}: {1}'.format(var.name, var_max))\n",
    "    print('Minimum value: {0}'.format(f.subs({var:var_max})))\n",
    "    \n",
    "    # plot original function\n",
    "    func_x = list()\n",
    "    func_y = list()\n",
    "    num = -1\n",
    "    while num <= 1:\n",
    "        func_x.append(num)\n",
    "        func_y.append(f.evalf(subs={'x':num}))\n",
    "        num+=0.01\n",
    "    \n",
    "    plt.plot(func_x, func_y, color = 'orange')\n",
    "    \n",
    "    # determine points used to find minimum and plot on top of original function\n",
    "    x_points = plot_descent(var0, d, var)\n",
    "    y_points = list()\n",
    "    for point in x_points:\n",
    "        y_points.append(f.subs({var:point}))\n",
    "        \n",
    "    plt.plot(x_points, y_points, color='blue')\n",
    "    \n",
    "    plt.show()"
   ]
  },
  {
   "cell_type": "code",
   "execution_count": null,
   "id": "84657217-bd3b-42ee-a3db-071ca88f78f6",
   "metadata": {},
   "outputs": [],
   "source": []
  }
 ],
 "metadata": {
  "kernelspec": {
   "display_name": "Python 3 (ipykernel)",
   "language": "python",
   "name": "python3"
  },
  "language_info": {
   "codemirror_mode": {
    "name": "ipython",
    "version": 3
   },
   "file_extension": ".py",
   "mimetype": "text/x-python",
   "name": "python",
   "nbconvert_exporter": "python",
   "pygments_lexer": "ipython3",
   "version": "3.8.5"
  }
 },
 "nbformat": 4,
 "nbformat_minor": 5
}
